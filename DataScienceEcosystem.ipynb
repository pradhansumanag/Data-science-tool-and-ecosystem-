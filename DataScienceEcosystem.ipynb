{
 "cells": [
  {
   "cell_type": "markdown",
   "id": "e3c63681",
   "metadata": {},
   "source": [
    "# Data Science Tools and Ecosystems"
   ]
  },
  {
   "cell_type": "markdown",
   "id": "6f618b4c",
   "metadata": {},
   "source": [
    "In this notebook, we provide the comprehensive summary of the data science tools and ecosystem providing the valuable insight into the rapidly evolving field i.e., Data science."
   ]
  },
  {
   "cell_type": "markdown",
   "id": "5a948bb9",
   "metadata": {},
   "source": [
    "Some of the popular language used by Data scientist are as follows:\n",
    "1. Python\n",
    "2. R\n",
    "3. Java\n",
    "4. C++"
   ]
  },
  {
   "cell_type": "markdown",
   "id": "6051ef06",
   "metadata": {},
   "source": [
    "Some of the popular libraries used by Data scientist are as follows:\n",
    "1. NumPy\n",
    "2. Pandas \n",
    "3. Tensorflow\n",
    "4. Matplotlib"
   ]
  },
  {
   "cell_type": "markdown",
   "id": "2f217d0e",
   "metadata": {},
   "source": [
    "Three Development environment open source Data science tools in table format is given below:\n",
    "| Data Science tools|\n",
    "|-------------------|\n",
    "|Jupyter Notebook|\n",
    "| R studio|\n",
    "| Python |"
   ]
  },
  {
   "cell_type": "markdown",
   "id": "cbf6d44d",
   "metadata": {},
   "source": [
    "### The few examples of evaluating arithmetic expressions in Python are given below:"
   ]
  },
  {
   "cell_type": "code",
   "execution_count": 2,
   "id": "067c79ae",
   "metadata": {},
   "outputs": [
    {
     "data": {
      "text/plain": [
       "17"
      ]
     },
     "execution_count": 2,
     "metadata": {},
     "output_type": "execute_result"
    }
   ],
   "source": [
    "(3*4)+5"
   ]
  },
  {
   "cell_type": "code",
   "execution_count": 1,
   "id": "b16b7c3c",
   "metadata": {},
   "outputs": [
    {
     "data": {
      "text/plain": [
       "3.3333333333333335"
      ]
     },
     "execution_count": 1,
     "metadata": {},
     "output_type": "execute_result"
    }
   ],
   "source": [
    "# Converting 200 minutes into houurs\n",
    "(200/60) # Dividing by 60 to convert in hours "
   ]
  },
  {
   "cell_type": "markdown",
   "id": "fc0e8be5",
   "metadata": {},
   "source": [
    "**Objectives:\n",
    "+ List of the popular programming language used by the data scientist.\n",
    "+ List of the popular libraries used by the data scientist.\n",
    "+ List of development environment open source tools in data science.\n",
    "+ Evaluate the arimithmetic expression in Python.\n",
    "+ Create an ordered and unordered list in Python."
   ]
  },
  {
   "cell_type": "markdown",
   "id": "3b7e86b8",
   "metadata": {},
   "source": [
    "## Author\n",
    "Suman Shrestha"
   ]
  }
 ],
 "metadata": {
  "kernelspec": {
   "display_name": "Python 3 (ipykernel)",
   "language": "python",
   "name": "python3"
  },
  "language_info": {
   "codemirror_mode": {
    "name": "ipython",
    "version": 3
   },
   "file_extension": ".py",
   "mimetype": "text/x-python",
   "name": "python",
   "nbconvert_exporter": "python",
   "pygments_lexer": "ipython3",
   "version": "3.11.5"
  }
 },
 "nbformat": 4,
 "nbformat_minor": 5
}
